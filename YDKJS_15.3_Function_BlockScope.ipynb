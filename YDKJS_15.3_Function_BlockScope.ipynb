{
 "cells": [
  {
   "cell_type": "markdown",
   "metadata": {},
   "source": [
    "### Block scope 種類 \n",
    "```javascript\n",
    "for (), if(), while(), switch()\n",
    "for 迴圈可想成是兩個scope\n",
    "\n",
    "for (let i=0; i<5; i++) {\n",
    "  //script\n",
    "}\n",
    "\n",
    "\n",
    "{\n",
    "  let i =0\n",
    "  {\n",
    "    //script\n",
    "  }\n",
    "}\n",
    "\n",
    "\n",
    "\n",
    "\n",
    "```\n"
   ]
  },
  {
   "cell_type": "code",
   "execution_count": null,
   "metadata": {},
   "outputs": [],
   "source": []
  }
 ],
 "metadata": {
  "kernelspec": {
   "display_name": "Javascript (Node.js)",
   "language": "javascript",
   "name": "javascript"
  },
  "language_info": {
   "file_extension": ".js",
   "mimetype": "application/javascript",
   "name": "javascript",
   "version": "8.9.1"
  }
 },
 "nbformat": 4,
 "nbformat_minor": 2
}
