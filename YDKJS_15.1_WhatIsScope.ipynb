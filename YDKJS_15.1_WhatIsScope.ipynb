{
 "cells": [
  {
   "cell_type": "markdown",
   "metadata": {},
   "source": [
    "### 15.1 單元架構\n",
    "<img src='Structure_Scope01.png' >"
   ]
  },
  {
   "cell_type": "markdown",
   "metadata": {},
   "source": [
    "### Web JS Engine\n",
    "```\n",
    "Chrome: V8\n",
    "Firefox: Spider Monkey\n",
    "Safari: Nitro Engine\n",
    "```\n",
    "<img src='jsEngine.png' width='650px' height='350px' /> \n",
    "<div text-align='center'>\n",
    "<a href='https://zh.wikipedia.org/wiki/JavaScript%E5%BC%95%E6%93%8E' margin='auto' display='block' text-align='center'>參考來源:維基百科-JS引擎 </a></div>"
   ]
  },
  {
   "cell_type": "markdown",
   "metadata": {},
   "source": [
    "#### Code的編譯過程\n",
    "<img src='Structure_Scope01_1.png' />\n",
    "\n",
    "<br>\n",
    "\n",
    "```\n",
    "var a = 2; \n",
    "\n",
    "1. Tokenizing/Lexing:  var, a, =, 2, ; \n",
    "2. Parsing: token 轉換=> AST 抽象語法樹\n",
    "3. Code-generation: 轉為瀏覽器可閱讀的(機器)語言\n",
    "```\n",
    "\n",
    "<img src='compileCasts.png' height='350px' width='500px'/>\n"
   ]
  },
  {
   "cell_type": "markdown",
   "metadata": {},
   "source": [
    "### LHS & RHS => 用於了解報錯原因\n",
    "```\n",
    "LHS: Container lookup\n",
    "RHS: Value lookup\n",
    "\n",
    "若是 RHS，則會丟出 ReferrenceError 的訊息。\n",
    "若是 LHS，就會分為是否在嚴格模式（strict mode）的情況\n",
    "> 在非嚴格模式下，會在全域建立這個變數。\n",
    "> 在嚴格模式下，會丟出 ReferrenceError 的訊息。\n",
    "```\n",
    "=> 產生ReferenceError通常因為RHS的緣故，因為多數情況下不會用嚴格模式寫\n"
   ]
  },
  {
   "cell_type": "code",
   "execution_count": 1,
   "metadata": {},
   "outputs": [],
   "source": [
    "// 那些為 LHS & RHS ?  \n",
    "function foo(a) {\n",
    "    var b = a;\n",
    "    return a + b;\n",
    "}\n",
    "var c = foo(2);\n",
    "// RHS: c= foo(2); return a+b; foo(2); b =a;"
   ]
  },
  {
   "cell_type": "code",
   "execution_count": 3,
   "metadata": {},
   "outputs": [
    {
     "data": {
      "text/plain": [
       "'JW'"
      ]
     },
     "execution_count": 3,
     "metadata": {},
     "output_type": "execute_result"
    }
   ],
   "source": [
    "// LHS non-strict mode\n",
    "name= 'JW'"
   ]
  },
  {
   "cell_type": "code",
   "execution_count": 4,
   "metadata": {},
   "outputs": [
    {
     "ename": "ReferenceError",
     "evalue": "d is not defined",
     "output_type": "error",
     "traceback": [
      "evalmachine.<anonymous>:3",
      "d = 2",
      "  ^",
      "",
      "ReferenceError: d is not defined",
      "    at evalmachine.<anonymous>:3:3",
      "    at ContextifyScript.Script.runInThisContext (vm.js:50:33)",
      "    at Object.runInThisContext (vm.js:139:38)",
      "    at run ([eval]:1002:15)",
      "    at onRunRequest ([eval]:829:18)",
      "    at onMessage ([eval]:789:13)",
      "    at emitTwo (events.js:126:13)",
      "    at process.emit (events.js:214:7)",
      "    at emit (internal/child_process.js:772:12)",
      "    at _combinedTickCallback (internal/process/next_tick.js:141:11)"
     ]
    }
   ],
   "source": [
    "// LHS strict mode\n",
    "'use strict'\n",
    "d = 2"
   ]
  },
  {
   "cell_type": "code",
   "execution_count": 2,
   "metadata": {},
   "outputs": [
    {
     "ename": "ReferenceError",
     "evalue": "random is not defined",
     "output_type": "error",
     "traceback": [
      "evalmachine.<anonymous>:2",
      "console.log(random)",
      "            ^",
      "",
      "ReferenceError: random is not defined",
      "    at evalmachine.<anonymous>:2:13",
      "    at ContextifyScript.Script.runInThisContext (vm.js:50:33)",
      "    at Object.runInThisContext (vm.js:139:38)",
      "    at run ([eval]:1002:15)",
      "    at onRunRequest ([eval]:829:18)",
      "    at onMessage ([eval]:789:13)",
      "    at emitTwo (events.js:126:13)",
      "    at process.emit (events.js:214:7)",
      "    at emit (internal/child_process.js:772:12)",
      "    at _combinedTickCallback (internal/process/next_tick.js:141:11)"
     ]
    }
   ],
   "source": [
    "// RHS 報錯狀況\n",
    "console.log(random)"
   ]
  },
  {
   "cell_type": "code",
   "execution_count": null,
   "metadata": {},
   "outputs": [],
   "source": [
    "// Q: var q = q 先從哪一邊執行? 如何證明?\n",
    "// left: JK, FM, Iris, Sabrina \n",
    "// Right: Mei, Ilin, Jiahou, Yuchi\n",
    "// 左到右\n"
   ]
  },
  {
   "cell_type": "code",
   "execution_count": 6,
   "metadata": {},
   "outputs": [
    {
     "name": "stdout",
     "output_type": "stream",
     "text": [
      "3\n"
     ]
    }
   ],
   "source": [
    "var b1 = 2;\n",
    "{\n",
    "  var a1 = 1;\n",
    "}\n",
    "console.log(a1 + b1);"
   ]
  },
  {
   "cell_type": "code",
   "execution_count": 7,
   "metadata": {},
   "outputs": [
    {
     "ename": "ReferenceError",
     "evalue": "a2 is not defined",
     "output_type": "error",
     "traceback": [
      "evalmachine.<anonymous>:5",
      "console.log(a2+b2);",
      "            ^",
      "",
      "ReferenceError: a2 is not defined",
      "    at evalmachine.<anonymous>:5:13",
      "    at ContextifyScript.Script.runInThisContext (vm.js:50:33)",
      "    at Object.runInThisContext (vm.js:139:38)",
      "    at run ([eval]:1002:15)",
      "    at onRunRequest ([eval]:829:18)",
      "    at onMessage ([eval]:789:13)",
      "    at emitTwo (events.js:126:13)",
      "    at process.emit (events.js:214:7)",
      "    at emit (internal/child_process.js:772:12)",
      "    at _combinedTickCallback (internal/process/next_tick.js:141:11)"
     ]
    }
   ],
   "source": [
    "let b2 =2;\n",
    "{\n",
    "    let a2 =1;\n",
    "}\n",
    "console.log(a2+b2);"
   ]
  },
  {
   "cell_type": "code",
   "execution_count": 5,
   "metadata": {},
   "outputs": [
    {
     "ename": "ReferenceError",
     "evalue": "b is not defined",
     "output_type": "error",
     "traceback": [
      "evalmachine.<anonymous>:1",
      "let b = b;",
      "        ^",
      "",
      "ReferenceError: b is not defined",
      "    at evalmachine.<anonymous>:1:9",
      "    at ContextifyScript.Script.runInThisContext (vm.js:50:33)",
      "    at Object.runInThisContext (vm.js:139:38)",
      "    at run ([eval]:1002:15)",
      "    at onRunRequest ([eval]:829:18)",
      "    at onMessage ([eval]:789:13)",
      "    at emitTwo (events.js:126:13)",
      "    at process.emit (events.js:214:7)",
      "    at emit (internal/child_process.js:772:12)",
      "    at _combinedTickCallback (internal/process/next_tick.js:141:11)"
     ]
    }
   ],
   "source": [
    "let b = b;"
   ]
  },
  {
   "cell_type": "code",
   "execution_count": 9,
   "metadata": {},
   "outputs": [
    {
     "name": "stdout",
     "output_type": "stream",
     "text": [
      "7\n",
      "n  7 m  7\n"
     ]
    }
   ],
   "source": [
    "let n; \n",
    "let m;\n",
    "n=6;\n",
    "m=7;\n",
    "console.log(n=m);\n",
    "console.log('n ',n, 'm ',m)"
   ]
  },
  {
   "cell_type": "code",
   "execution_count": null,
   "metadata": {},
   "outputs": [],
   "source": []
  }
 ],
 "metadata": {
  "kernelspec": {
   "display_name": "Javascript (Node.js)",
   "language": "javascript",
   "name": "javascript"
  },
  "language_info": {
   "file_extension": ".js",
   "mimetype": "application/javascript",
   "name": "javascript",
   "version": "8.9.1"
  }
 },
 "nbformat": 4,
 "nbformat_minor": 2
}
