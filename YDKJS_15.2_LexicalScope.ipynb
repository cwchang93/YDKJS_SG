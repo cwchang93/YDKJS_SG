{
 "cells": [
  {
   "cell_type": "markdown",
   "metadata": {},
   "source": [
    "### 15.2 單元架構\n",
    "<img src='Structure_Scope02.png' />"
   ]
  },
  {
   "cell_type": "markdown",
   "metadata": {},
   "source": [
    "##### Lex Time\n",
    "```\n",
    "> 語彙範疇是在語彙分析時期所定義的範疇，而範疇的劃分在程式碼撰寫時就決定好了。\n",
    "> 寫程式的當下就能知道當下的範疇\n",
    "```"
   ]
  },
  {
   "cell_type": "code",
   "execution_count": 1,
   "metadata": {},
   "outputs": [
    {
     "name": "stdout",
     "output_type": "stream",
     "text": [
      "leader fm\n",
      "we are developing xintuku\n"
     ]
    }
   ],
   "source": [
    "// ex Q15.2.1\n",
    "// 以下程式碼共有幾個作用域scope與識別字?\n",
    "function xinmedia(){\n",
    "    var leader = 'fm';\n",
    "    console.log('leader', leader)\n",
    "    \n",
    "    function platform(p1,p2,p3){\n",
    "        console.log('we are developing', p2)\n",
    "    }\n",
    "    platform('xinmember', 'xintuku', 'xinshop');\n",
    "}\n",
    "\n",
    "xinmedia();\n",
    "// Yuchi: 3個作用域=> global, xinmedia, platform\n",
    "          identifier=> var leader; xinmedia, platform\n",
    "6 => identifier"
   ]
  },
  {
   "cell_type": "markdown",
   "metadata": {},
   "source": [
    "#### Shadowing 遮蔽(外層變數): 不捨近求遠!"
   ]
  },
  {
   "cell_type": "code",
   "execution_count": 3,
   "metadata": {},
   "outputs": [
    {
     "name": "stdout",
     "output_type": "stream",
     "text": [
      "myGf:  Outside Gf\n"
     ]
    }
   ],
   "source": [
    "// Q 15.2.2\n",
    "var myGf = 'Outside Gf'\n",
    "\n",
    "function shadowing() {\n",
    "//    var myGf = 'Inside Gf';\n",
    "  console.log('myGf: ',myGf);\n",
    "}\n",
    "shadowing();"
   ]
  },
  {
   "cell_type": "markdown",
   "metadata": {},
   "source": [
    "##### Global Variable(全域變數)"
   ]
  },
  {
   "cell_type": "markdown",
   "metadata": {},
   "source": [
    "#### eval() 脫離Lexical的掌控\n",
    "```\n",
    "1.全域中的function \n",
    "2.把字串當作變數並在編譯時轉成程式碼 \n",
    "3.'strict mode' 無法使用\n",
    "```"
   ]
  },
  {
   "cell_type": "code",
   "execution_count": 5,
   "metadata": {},
   "outputs": [
    {
     "name": "stdout",
     "output_type": "stream",
     "text": [
      "1 2\n"
     ]
    }
   ],
   "source": [
    "// Q15.2.3\n",
    "function foo(a, str) {\n",
    "  eval (str);\n",
    "  console.log(a,b)\n",
    "}\n",
    "\n",
    "var b =2;\n",
    "foo(1, \"var b = 3;\")   // 1,3  外層的 b =2 被遮蔽了"
   ]
  },
  {
   "cell_type": "code",
   "execution_count": 6,
   "metadata": {},
   "outputs": [
    {
     "name": "stdout",
     "output_type": "stream",
     "text": [
      "0\n",
      "1\n",
      "2\n",
      "3\n",
      "4\n",
      "5\n"
     ]
    }
   ],
   "source": [
    "// Q15.2.4  for 迴圈的狀況1\n",
    "for (var i =0; i<5; i++) {\n",
    "  console.log(i);\n",
    "}\n",
    "console.log(i); "
   ]
  },
  {
   "cell_type": "code",
   "execution_count": 7,
   "metadata": {},
   "outputs": [
    {
     "name": "stdout",
     "output_type": "stream",
     "text": [
      "5\n"
     ]
    }
   ],
   "source": [
    "for (var k =0; k<5; k++) {\n",
    "  \n",
    "}\n",
    "console.log(k); "
   ]
  },
  {
   "cell_type": "code",
   "execution_count": 8,
   "metadata": {},
   "outputs": [
    {
     "name": "stdout",
     "output_type": "stream",
     "text": [
      "0\n",
      "1\n",
      "2\n",
      "3\n",
      "4\n"
     ]
    },
    {
     "ename": "ReferenceError",
     "evalue": "j is not defined",
     "output_type": "error",
     "traceback": [
      "evalmachine.<anonymous>:5",
      "console.log(j); ",
      "            ^",
      "",
      "ReferenceError: j is not defined",
      "    at evalmachine.<anonymous>:5:13",
      "    at ContextifyScript.Script.runInThisContext (vm.js:50:33)",
      "    at Object.runInThisContext (vm.js:139:38)",
      "    at run ([eval]:1002:15)",
      "    at onRunRequest ([eval]:829:18)",
      "    at onMessage ([eval]:789:13)",
      "    at emitTwo (events.js:126:13)",
      "    at process.emit (events.js:214:7)",
      "    at emit (internal/child_process.js:772:12)",
      "    at _combinedTickCallback (internal/process/next_tick.js:141:11)"
     ]
    }
   ],
   "source": [
    "// Q15.2.5  for迴圈的狀況2 \n",
    "for (let j =0; j<5; j++) {\n",
    "  console.log(j);\n",
    "}\n",
    "console.log(j); "
   ]
  },
  {
   "cell_type": "code",
   "execution_count": 9,
   "metadata": {},
   "outputs": [
    {
     "name": "stdout",
     "output_type": "stream",
     "text": [
      "3\n"
     ]
    }
   ],
   "source": [
    "// Q15.2.6\n",
    "let father = 2;\n",
    "{\n",
    "  let children = 1;\n",
    "  console.log(father + children);\n",
    "}\n"
   ]
  },
  {
   "cell_type": "code",
   "execution_count": null,
   "metadata": {},
   "outputs": [],
   "source": []
  }
 ],
 "metadata": {
  "kernelspec": {
   "display_name": "Javascript (Node.js)",
   "language": "javascript",
   "name": "javascript"
  },
  "language_info": {
   "file_extension": ".js",
   "mimetype": "application/javascript",
   "name": "javascript",
   "version": "8.9.1"
  }
 },
 "nbformat": 4,
 "nbformat_minor": 2
}
