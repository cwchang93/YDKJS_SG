{
 "cells": [
  {
   "cell_type": "markdown",
   "metadata": {},
   "source": [
    "\n",
    "### Block scope 種類 \n",
    "```javascript\n",
    "for (), if(), while(), switch()\n",
    "for 迴圈可想成是兩個scope\n",
    "\n",
    "for (let i=0; i<5; i++) {\n",
    "  //script\n",
    "}\n",
    "\n",
    "\n",
    "{\n",
    "  let i =0\n",
    "  {\n",
    "    //script\n",
    "  }\n",
    "}\n",
    "\n",
    "\n",
    "```"
   ]
  },
  {
   "cell_type": "markdown",
   "metadata": {},
   "source": [
    "### 函式會建立自己的範疇\b，其內的變數、函式\b\b僅能在這個函式裡面使用。"
   ]
  },
  {
   "cell_type": "code",
   "execution_count": null,
   "metadata": {},
   "outputs": [],
   "source": [
    "// Q15.3.1\n",
    "function b() {\n",
    "  console.log(myVar);\n",
    "}\n",
    "\n",
    "function a() {\n",
    "  var myVar =2;\n",
    "  b();\n",
    "}\n",
    "\n",
    "var myVar =1;\n",
    "a();"
   ]
  },
  {
   "cell_type": "code",
   "execution_count": null,
   "metadata": {},
   "outputs": [],
   "source": [
    "// Q15.3.2\n",
    "function b2() {\n",
    "  console.log(newVar);\n",
    "}\n",
    "\n",
    "function a2() {\n",
    "  var newVar =2;\n",
    "  b2();\n",
    "}\n",
    "\n",
    "a2();"
   ]
  },
  {
   "cell_type": "code",
   "execution_count": null,
   "metadata": {},
   "outputs": [],
   "source": [
    "function foo(a) {\n",
    "    const b =5;\n",
    "    function bar() {\n",
    "        console.log('b', b);\n",
    "        console.log('a', a);\n",
    "    }\n",
    "    bar();\n",
    "}\n",
    "foo(2);"
   ]
  },
  {
   "cell_type": "markdown",
   "metadata": {},
   "source": [
    "## 函式範疇的好處: \n",
    "### 1. 最小權限原則: 避免變數或函式被不當存取 (Principle of lest privilege)\n",
    "### 2. 避免衝突: 避免同名識別字所造成的衝突，這當中包含了避免污染全域命名空間和模組的管理 (Collision Avoidance)"
   ]
  },
  {
   "cell_type": "markdown",
   "metadata": {},
   "source": [
    "### 1. 最小權限原則 (principle of least privilege) : 防止變數或函式被不當存取 \n",
    "> 外層不能動內層的變數 <br>\n",
    "> 外層僅能透過公開的api取得經過處理的資料"
   ]
  },
  {
   "cell_type": "code",
   "execution_count": null,
   "metadata": {
    "scrolled": true
   },
   "outputs": [],
   "source": [
    "function foo() {\n",
    "  var dataInfoo = 'fooData';\n",
    "\n",
    "  function bar() {\n",
    "    return dataInfoo + ' and ' + 'barData';\n",
    "  }\n",
    "\n",
    "//     bar();  Q\n",
    "  return {\n",
    "    bar\n",
    "  }\n",
    "}\n",
    "\n",
    "console.log(foo().bar());   //\n",
    "console.log(dataInfoo);    // 外層想取foo()裡面的變數\n",
    "\n",
    "// Q: 為何不能寫bar()?\n"
   ]
  },
  {
   "cell_type": "markdown",
   "metadata": {},
   "source": [
    "### 2. 避免衝突 (Collision Avoidance)"
   ]
  },
  {
   "cell_type": "code",
   "execution_count": null,
   "metadata": {},
   "outputs": [],
   "source": [
    "function foo() {\n",
    "  function bar(a) {\n",
    "    i = 3;\n",
    "    console.log(a + i);\n",
    "  }\n",
    "\n",
    "  for (var i = 0; i < 10; i++) {\n",
    "    bar(i * 2);\n",
    "  }\n",
    "}\n",
    "\n",
    "foo();"
   ]
  },
  {
   "cell_type": "code",
   "execution_count": null,
   "metadata": {},
   "outputs": [],
   "source": [
    "function foo() {\n",
    "  function bar(a) {\n",
    "    var i = 3; // 將 bar 內的 i 宣告為區域變數\n",
    "    console.log(a + i);\n",
    "  }\n",
    "\n",
    "  for (var i = 0; i < 10; i++) {\n",
    "    bar(i * 2);\n",
    "  }\n",
    "}\n",
    "\n",
    "foo();"
   ]
  },
  {
   "cell_type": "markdown",
   "metadata": {},
   "source": [
    "### 全域命名空間  Global Namespace \n",
    "> 包成某物件的屬性 ＆ 方法 ＝> 避免在全域因同名產生衝突\n",
    "\n",
    "### 模組管理 Module Management\n",
    "> 利用套件避免識別字放到全域中以避免衝突"
   ]
  },
  {
   "cell_type": "code",
   "execution_count": null,
   "metadata": {},
   "outputs": [],
   "source": [
    "var MyReallyCoolLibrary = {\n",
    "  awesome: 'stuff',\n",
    "  doSomething: function() {\n",
    "    console.log(\" Hi, I'm do sth \");\n",
    "  },\n",
    "  doAnotherThing: function() {\n",
    "    // ...\n",
    "  }\n",
    "};\n",
    "\n",
    "MyReallyCoolLibrary.doSomething();"
   ]
  },
  {
   "cell_type": "markdown",
   "metadata": {},
   "source": [
    "### 函式的兩種表達方式\n",
    "#### 函式宣告（Function Declaration) \n",
    "> 利用關鍵字 function 宣告一個函式，後接函式名稱與其本體\n",
    "\n",
    "#### 函式運算式 (Function Expression)\n",
    "> 將一個函式指定給特定變數的過程\n"
   ]
  },
  {
   "cell_type": "markdown",
   "metadata": {},
   "source": [
    "#### Q: 下列的function Expression 何者才正確？\n",
    "``` javascript\n",
    "第一種：\n",
    "var foo = function bar() {\n",
    "  var a = 3;\n",
    "  console.log(a); // 3\n",
    "}\n",
    "\n",
    "foo();\n",
    "\n",
    "第二種：\n",
    "var foo = function() {\n",
    "  var a = 3;\n",
    "  console.log(a); // 3\n",
    "}\n",
    "\n",
    "foo();\n",
    "\n",
    "```\n"
   ]
  },
  {
   "cell_type": "markdown",
   "metadata": {},
   "source": [
    "### 使用匿名函式運算式缺點：\n",
    "1. stack trace 因報錯時沒有具體名稱會較難追蹤。\n",
    "2. 沒有名稱會難以遞迴（解法是必須使用已廢棄的 arguments.callee），且無法指定名稱做自身的 unbind。\n",
    "3. 無法立即知道該匿名函式的功能，可讀性較差。"
   ]
  },
  {
   "cell_type": "markdown",
   "metadata": {},
   "source": [
    "### IIFE「即刻調用函式運算式」（Immediately Invoked Function Expression, IIFE）\n",
    "### 使用IIFE的契機: \n",
    "#### 函式宣告或函式運算式，都會污染到全域範疇。IIFE可解決這個問題。"
   ]
  },
  {
   "cell_type": "code",
   "execution_count": null,
   "metadata": {},
   "outputs": [],
   "source": [
    "var c =2;\n",
    "(function foo() {\n",
    "    var c =3;\n",
    "    console.log(c);\n",
    "})()\n",
    "console.log(c);"
   ]
  },
  {
   "cell_type": "code",
   "execution_count": null,
   "metadata": {},
   "outputs": [],
   "source": [
    "var l =2;\n",
    "(function loo() {\n",
    "    var l =3;\n",
    "    console.log(l);\n",
    "})();\n",
    "console.log(l);\n",
    "loo();"
   ]
  },
  {
   "cell_type": "code",
   "execution_count": null,
   "metadata": {},
   "outputs": [],
   "source": [
    "// 須在瀏覽器運行\n",
    "var a = 2;\n",
    "\n",
    "(function IIFE(global) {\n",
    "  var a = 3;\n",
    "  console.log(a); \n",
    "  console.log(global.a); \n",
    "})(window);\n",
    "\n",
    "console.log(a);"
   ]
  },
  {
   "cell_type": "code",
   "execution_count": null,
   "metadata": {},
   "outputs": [],
   "source": [
    "// IIFE 設定參數undefined\n",
    "undefined = true;\n",
    "\n",
    "(function IIFE(undefined) {\n",
    "  var a;\n",
    "  if (a === undefined) {\n",
    "    console.log('Undefined is safe inside！');\n",
    "  }\n",
    "})();"
   ]
  },
  {
   "cell_type": "markdown",
   "metadata": {},
   "source": [
    "#### 反轉順序 \n",
    "> 前方放置呼叫的參數並執行未來傳入的函式，而後方放置將要執行的函式。這種寫法常用於 UMD（universal module definition）"
   ]
  },
  {
   "cell_type": "code",
   "execution_count": null,
   "metadata": {},
   "outputs": [],
   "source": [
    "var a = 2;\n",
    "\n",
    "(function IIFE(def) {\n",
    "  def(window);\n",
    "})(function def(global) {\n",
    "  var a = 3;\n",
    "  console.log(a); // 3\n",
    "  console.log(global.a); // 2\n",
    "});"
   ]
  },
  {
   "cell_type": "markdown",
   "metadata": {},
   "source": [
    "## Block Scope 區塊範疇\n",
    "> ES6 開始有的語法，因此就不太需要IIFE來避免全域污染的問題"
   ]
  },
  {
   "cell_type": "code",
   "execution_count": null,
   "metadata": {},
   "outputs": [],
   "source": [
    "// let 用於for迴圈\n",
    "for (let i = 0; i < 10; i++) {\n",
    "  console.log(i);\n",
    "}\n",
    "\n",
    "console.log(i);"
   ]
  },
  {
   "cell_type": "code",
   "execution_count": null,
   "metadata": {},
   "outputs": [],
   "source": [
    "// let 在迴圈的另一種觀點 => 每一次都會重新賦值\n",
    "{\n",
    "    let i;\n",
    "    for (i =0; i< 10; i++) {\n",
    "        console.log(i);\n",
    "    }\n",
    "}\n",
    "console.log(i);"
   ]
  },
  {
   "cell_type": "code",
   "execution_count": null,
   "metadata": {},
   "outputs": [],
   "source": [
    "// 寫一個每隔1秒console出數字的function (console 0~5)\n"
   ]
  },
  {
   "cell_type": "markdown",
   "metadata": {},
   "source": [
    "### 垃圾回收機制"
   ]
  },
  {
   "cell_type": "code",
   "execution_count": null,
   "metadata": {},
   "outputs": [],
   "source": []
  }
 ],
 "metadata": {
  "kernelspec": {
   "display_name": "Javascript (Node.js)",
   "language": "javascript",
   "name": "javascript"
  },
  "language_info": {
   "file_extension": ".js",
   "mimetype": "application/javascript",
   "name": "javascript",
   "version": "8.9.1"
  }
 },
 "nbformat": 4,
 "nbformat_minor": 2
}
